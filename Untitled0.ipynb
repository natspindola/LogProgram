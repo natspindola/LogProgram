{
  "nbformat": 4,
  "nbformat_minor": 0,
  "metadata": {
    "colab": {
      "name": "Untitled0.ipynb",
      "provenance": [],
      "collapsed_sections": [],
      "authorship_tag": "ABX9TyMbc5cCRKlMPOZsm7Mjx0lA",
      "include_colab_link": true
    },
    "kernelspec": {
      "name": "python3",
      "display_name": "Python 3"
    },
    "language_info": {
      "name": "python"
    }
  },
  "cells": [
    {
      "cell_type": "markdown",
      "metadata": {
        "id": "view-in-github",
        "colab_type": "text"
      },
      "source": [
        "<a href=\"https://colab.research.google.com/github/natspindola/LogProgram/blob/main/Untitled0.ipynb\" target=\"_parent\"><img src=\"https://colab.research.google.com/assets/colab-badge.svg\" alt=\"Open In Colab\"/></a>"
      ]
    },
    {
      "cell_type": "code",
      "source": [
        "print (\"Hello world\")"
      ],
      "metadata": {
        "colab": {
          "base_uri": "https://localhost:8080/"
        },
        "id": "hDZLbPZGkY7f",
        "outputId": "31754a50-d23e-42d5-e31d-60e66f4c3a37"
      },
      "execution_count": 2,
      "outputs": [
        {
          "output_type": "stream",
          "name": "stdout",
          "text": [
            "Hello world\n"
          ]
        }
      ]
    },
    {
      "cell_type": "code",
      "source": [
        "doce_favorito = input(\"Qual o seu doce favorito? \")\n",
        "nome = input(\"Qual é o seu nome? \")\n",
        "\n",
        "#valores concatenados\n",
        "print('Olá ' + nome + ', ' + doce_favorito + ' é muito bom mesmo!')\n"
      ],
      "metadata": {
        "colab": {
          "base_uri": "https://localhost:8080/"
        },
        "id": "8BDN1guBlx_T",
        "outputId": "869f7a00-20ad-48c0-f0c5-82b75d25fa7d"
      },
      "execution_count": 4,
      "outputs": [
        {
          "output_type": "stream",
          "name": "stdout",
          "text": [
            "Qual o seu doce favorito? brigadeiro\n",
            "Qual é o seu nome? natalia\n",
            "Olá natalia, brigadeiro é muito bom mesmo!\n"
          ]
        }
      ]
    },
    {
      "cell_type": "code",
      "source": [
        "#Variáveis:\n",
        "#String = dados em texto\n",
        "#Float, números flutuantes = números com vírgula, frações\n",
        "#Integers = números inteiros\n",
        "#Booleans = true ou false\n",
        "\n",
        "#Estrutura de dados:\n",
        "#List = agrupar valores\n",
        "#Dictionary = agupar dados complexos\n"
      ],
      "metadata": {
        "id": "UvxKdCURnvtw"
      },
      "execution_count": 7,
      "outputs": []
    },
    {
      "cell_type": "code",
      "source": [
        "maria = {\n",
        "    \"nome\": \"Maria\",\n",
        "    \"profissao\": \"Analista de Marketing\",\n",
        "    \"data_nascimento\": \"25/12/1990\"\n",
        "}\n",
        "\n",
        "joao = {\n",
        "    \"nome\": \"João\",\n",
        "    \"profissao\": \"Designer\",\n",
        "    \"data_nascimento\": \"26/03/1992\"\n",
        "}\n",
        "\n",
        "funcionarios = [maria, joao]"
      ],
      "metadata": {
        "id": "J0PUF_nzptk2"
      },
      "execution_count": 18,
      "outputs": []
    },
    {
      "cell_type": "code",
      "source": [
        "funcionarios[0]"
      ],
      "metadata": {
        "colab": {
          "base_uri": "https://localhost:8080/"
        },
        "id": "DEoyssJLqU0p",
        "outputId": "b437b4b7-69c4-474f-b28b-e666b1631986"
      },
      "execution_count": 15,
      "outputs": [
        {
          "output_type": "execute_result",
          "data": {
            "text/plain": [
              "{'data_nasciento': '25/12/1990',\n",
              " 'nome': 'Maria',\n",
              " 'profissao': 'Analista de Marketing'}"
            ]
          },
          "metadata": {},
          "execution_count": 15
        }
      ]
    },
    {
      "cell_type": "code",
      "source": [
        "funcionarios[1] [\"nome\"]"
      ],
      "metadata": {
        "colab": {
          "base_uri": "https://localhost:8080/",
          "height": 35
        },
        "id": "9nZM8o3qrCFb",
        "outputId": "4a60872d-6ae7-48fb-8c33-b919308142f1"
      },
      "execution_count": 21,
      "outputs": [
        {
          "output_type": "execute_result",
          "data": {
            "text/plain": [
              "'João'"
            ],
            "application/vnd.google.colaboratory.intrinsic+json": {
              "type": "string"
            }
          },
          "metadata": {},
          "execution_count": 21
        }
      ]
    },
    {
      "cell_type": "code",
      "source": [
        "#Operadores\n",
        "# < maior\n",
        "# > menor\n",
        "# >= maior ou igual\n",
        "# <= menor ou igual\n",
        "# == igual\n",
        "# != diferente"
      ],
      "metadata": {
        "id": "NIN6DrCIsTMJ"
      },
      "execution_count": null,
      "outputs": []
    },
    {
      "cell_type": "code",
      "source": [
        "pessoa = {\"nome\": \"João\", \"adimplente\": False}\n",
        "\n",
        "if (pessoa[\"adimplente\"]):\n",
        "  print(\"Pode receber empréstimo\")\n",
        "else:\n",
        "  print(\"Não pode receber empréstimo\")"
      ],
      "metadata": {
        "colab": {
          "base_uri": "https://localhost:8080/"
        },
        "id": "Dj9Ox1r-s47j",
        "outputId": "8a86b18e-cfdf-44b7-9ad1-d39b004386d3"
      },
      "execution_count": 22,
      "outputs": [
        {
          "output_type": "stream",
          "name": "stdout",
          "text": [
            "Não pode receber empréstimo\n"
          ]
        }
      ]
    },
    {
      "cell_type": "code",
      "source": [
        "pessoa = {\"nome\": \"João\", \"adimplente\": False, \"salario\": 6000, \"score\": 900}\n",
        "\n",
        "if (pessoa[\"adimplente\"]):\n",
        "  print(\"Pode receber empréstimo\")\n",
        "else:\n",
        "  if(pessoa[\"salario\"] >= 5000 and pessoa[\"score\"] > 850):\n",
        "    print(\"Pode receber empréstimo\")\n",
        "  else:\n",
        "    print(\"Não pode receber empréstimo\")"
      ],
      "metadata": {
        "colab": {
          "base_uri": "https://localhost:8080/"
        },
        "id": "7Mr2MSJCtUJL",
        "outputId": "9588bbc9-02b9-4fcb-9979-95e825927c22"
      },
      "execution_count": 23,
      "outputs": [
        {
          "output_type": "stream",
          "name": "stdout",
          "text": [
            "Pode receber empréstimo\n"
          ]
        }
      ]
    },
    {
      "cell_type": "code",
      "source": [
        "carros = [\n",
        "          {\"modelo\": \"uno\", \"cor\": \"vermelho\"},\n",
        "          {\"modelo\": \"fusca\", \"cor\": \"amarelo\"},\n",
        "          {\"modelo\": \"ka\", \"cor\": \"cinza\"},\n",
        "          {\"modelo\": \"palio\", \"cor\": \"preto\"},\n",
        "          {\"modelo\": \"fiesta\", \"cor\": \"branco\"},\n",
        "]\n",
        "\n",
        "for carro in carros:\n",
        "  print(carro[\"modelo\"], carro[\"cor\"])"
      ],
      "metadata": {
        "colab": {
          "base_uri": "https://localhost:8080/"
        },
        "id": "BUPRW94xvqZF",
        "outputId": "1c82ad7b-0c29-4318-f665-f50d1ed034dc"
      },
      "execution_count": 24,
      "outputs": [
        {
          "output_type": "stream",
          "name": "stdout",
          "text": [
            "uno vermelho\n",
            "fusca amarelo\n",
            "ka cinza\n",
            "palio preto\n",
            "fiesta branco\n"
          ]
        }
      ]
    },
    {
      "cell_type": "code",
      "source": [
        ""
      ],
      "metadata": {
        "id": "hp9Q2hNeybip"
      },
      "execution_count": null,
      "outputs": []
    }
  ]
}